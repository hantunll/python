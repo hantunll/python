{
 "cells": [
  {
   "cell_type": "code",
   "execution_count": 147,
   "metadata": {},
   "outputs": [],
   "source": [
    "#"
   ]
  },
  {
   "cell_type": "code",
   "execution_count": 148,
   "metadata": {},
   "outputs": [],
   "source": [
    "# Import some useful packages\n",
    "import matplotlib.pyplot as plt\n",
    "import numpy as np\n",
    "\n",
    "# Layers for FNN\n",
    "from tensorflow.keras.models import Sequential\n",
    "from tensorflow.keras.layers import Dense\n",
    "from tensorflow.keras.layers import Flatten\n",
    "\n",
    "# Layers for CNN\n",
    "from tensorflow.keras.layers import Conv2D, MaxPool2D, GlobalAveragePooling2D\n",
    "\n",
    "from tensorflow.keras.optimizers import SGD, Adam\n",
    "\n",
    "# For data preprocessing\n",
    "from tensorflow.keras import datasets\n",
    "from tensorflow.keras.utils import to_categorical\n",
    "\n",
    "#代替 input_dim\n",
    "from tensorflow.keras.models import Model\n",
    "from tensorflow.keras.layers import Input\n",
    "#最後合併\n",
    "from tensorflow.keras.layers import concatenate, add"
   ]
  },
  {
   "cell_type": "code",
   "execution_count": 149,
   "metadata": {},
   "outputs": [],
   "source": [
    "# Load Fashine MNIST\n",
    "(X_train, y_train0), (X_test, y_test0) = datasets.fashion_mnist.load_data()\n",
    "\n",
    "# Reshape size\n",
    "X_train = X_train.reshape(-1, 28*28)\n",
    "X_test = X_test.reshape(-1, 28*28)\n",
    "\n",
    "# Normalize the range of featurs\n",
    "X_train = X_train / X_train.max()\n",
    "X_test = X_test / X_test.max()\n",
    "\n",
    "# One-hot encoding\n",
    "y_train = to_categorical(y_train0, 10)\n",
    "y_test = to_categorical(y_test0, 10)"
   ]
  },
  {
   "cell_type": "code",
   "execution_count": 150,
   "metadata": {},
   "outputs": [
    {
     "name": "stdout",
     "output_type": "stream",
     "text": [
      "(60000, 784)\n"
     ]
    }
   ],
   "source": [
    "print(X_train.shape)"
   ]
  },
  {
   "cell_type": "code",
   "execution_count": 151,
   "metadata": {},
   "outputs": [],
   "source": [
    "x = Input(shape=(784,))\n",
    "f_1 = Dense(500, activation='sigmoid')\n",
    "f_2 = Dense(350, activation='sigmoid')\n",
    "f_4 = Dense(250, activation='relu')\n",
    "f_3 = Dense(10, activation='softmax')"
   ]
  },
  {
   "cell_type": "code",
   "execution_count": 152,
   "metadata": {},
   "outputs": [],
   "source": [
    "h_1 = f_1(x)\n",
    "h_2 = f_2(h_1)\n",
    "z = f_4(h_1)\n",
    "u = concatenate([h_2, z])\n",
    "y = f_3(u)"
   ]
  },
  {
   "cell_type": "code",
   "execution_count": 153,
   "metadata": {},
   "outputs": [
    {
     "name": "stdout",
     "output_type": "stream",
     "text": [
      "Model: \"model_7\"\n",
      "__________________________________________________________________________________________________\n",
      "Layer (type)                    Output Shape         Param #     Connected to                     \n",
      "==================================================================================================\n",
      "input_13 (InputLayer)           [(None, 784)]        0                                            \n",
      "__________________________________________________________________________________________________\n",
      "dense_60 (Dense)                (None, 500)          392500      input_13[0][0]                   \n",
      "__________________________________________________________________________________________________\n",
      "dense_61 (Dense)                (None, 350)          175350      dense_60[0][0]                   \n",
      "__________________________________________________________________________________________________\n",
      "dense_62 (Dense)                (None, 250)          125250      dense_60[0][0]                   \n",
      "__________________________________________________________________________________________________\n",
      "concatenate_15 (Concatenate)    (None, 600)          0           dense_61[0][0]                   \n",
      "                                                                 dense_62[0][0]                   \n",
      "__________________________________________________________________________________________________\n",
      "dense_63 (Dense)                (None, 10)           6010        concatenate_15[0][0]             \n",
      "==================================================================================================\n",
      "Total params: 699,110\n",
      "Trainable params: 699,110\n",
      "Non-trainable params: 0\n",
      "__________________________________________________________________________________________________\n"
     ]
    }
   ],
   "source": [
    "model = Model(x, y)\n",
    "model.summary()"
   ]
  },
  {
   "cell_type": "code",
   "execution_count": 154,
   "metadata": {},
   "outputs": [
    {
     "data": {
      "image/png": "[encoded data removed]",
      "text/plain": [
       "<IPython.core.display.Image object>"
      ]
     },
     "execution_count": 154,
     "metadata": {},
     "output_type": "execute_result"
    }
   ],
   "source": [
    "from IPython.display import Image\n",
    "Image(filename=\"c:/users/haha0/desktop/圖片1.png\")"
   ]
  },
  {
   "cell_type": "code",
   "execution_count": 155,
   "metadata": {},
   "outputs": [],
   "source": [
    "model.compile(loss='mse', \n",
    "              optimizer=Adam(), \n",
    "              metrics=['accuracy'])"
   ]
  },
  {
   "cell_type": "code",
   "execution_count": 156,
   "metadata": {},
   "outputs": [
    {
     "name": "stdout",
     "output_type": "stream",
     "text": [
      "Train on 60000 samples, validate on 10000 samples\n",
      "Epoch 1/25\n",
      "60000/60000 [==============================] - 3s 57us/sample - loss: 0.0339 - accuracy: 0.7548 - val_loss: 0.0249 - val_accuracy: 0.8262\n",
      "Epoch 2/25\n",
      "60000/60000 [==============================] - 3s 54us/sample - loss: 0.0224 - accuracy: 0.8440 - val_loss: 0.0238 - val_accuracy: 0.8313\n",
      "Epoch 3/25\n",
      "60000/60000 [==============================] - 3s 54us/sample - loss: 0.0204 - accuracy: 0.8581 - val_loss: 0.0217 - val_accuracy: 0.8492\n",
      "Epoch 4/25\n",
      "60000/60000 [==============================] - 3s 52us/sample - loss: 0.0193 - accuracy: 0.8674 - val_loss: 0.0210 - val_accuracy: 0.8543\n",
      "Epoch 5/25\n",
      "60000/60000 [==============================] - 3s 49us/sample - loss: 0.0183 - accuracy: 0.8744 - val_loss: 0.0199 - val_accuracy: 0.8617\n",
      "Epoch 6/25\n",
      "60000/60000 [==============================] - 3s 49us/sample - loss: 0.0175 - accuracy: 0.8793 - val_loss: 0.0204 - val_accuracy: 0.8611\n",
      "Epoch 7/25\n",
      "60000/60000 [==============================] - 3s 49us/sample - loss: 0.0169 - accuracy: 0.8835 - val_loss: 0.0194 - val_accuracy: 0.8656\n",
      "Epoch 8/25\n",
      "60000/60000 [==============================] - 3s 50us/sample - loss: 0.0164 - accuracy: 0.8873 - val_loss: 0.0206 - val_accuracy: 0.8581\n",
      "Epoch 9/25\n",
      "60000/60000 [==============================] - 3s 50us/sample - loss: 0.0157 - accuracy: 0.8922 - val_loss: 0.0187 - val_accuracy: 0.8709\n",
      "Epoch 10/25\n",
      "60000/60000 [==============================] - 3s 50us/sample - loss: 0.0156 - accuracy: 0.8937 - val_loss: 0.0185 - val_accuracy: 0.8729\n",
      "Epoch 11/25\n",
      "60000/60000 [==============================] - 3s 50us/sample - loss: 0.0149 - accuracy: 0.8987 - val_loss: 0.0183 - val_accuracy: 0.8724\n",
      "Epoch 12/25\n",
      "60000/60000 [==============================] - 3s 50us/sample - loss: 0.0146 - accuracy: 0.9011 - val_loss: 0.0177 - val_accuracy: 0.8769\n",
      "Epoch 13/25\n",
      "60000/60000 [==============================] - 3s 50us/sample - loss: 0.0142 - accuracy: 0.9035 - val_loss: 0.0177 - val_accuracy: 0.8787\n",
      "Epoch 14/25\n",
      "60000/60000 [==============================] - 3s 50us/sample - loss: 0.0139 - accuracy: 0.9059 - val_loss: 0.0171 - val_accuracy: 0.8829\n",
      "Epoch 15/25\n",
      "60000/60000 [==============================] - 3s 50us/sample - loss: 0.0134 - accuracy: 0.9095 - val_loss: 0.0173 - val_accuracy: 0.8799\n",
      "Epoch 16/25\n",
      "60000/60000 [==============================] - 3s 50us/sample - loss: 0.0130 - accuracy: 0.9136 - val_loss: 0.0170 - val_accuracy: 0.8826\n",
      "Epoch 17/25\n",
      "60000/60000 [==============================] - 3s 50us/sample - loss: 0.0129 - accuracy: 0.9132 - val_loss: 0.0174 - val_accuracy: 0.8776\n",
      "Epoch 18/25\n",
      "60000/60000 [==============================] - 3s 51us/sample - loss: 0.0124 - accuracy: 0.9173 - val_loss: 0.0165 - val_accuracy: 0.8866\n",
      "Epoch 19/25\n",
      "60000/60000 [==============================] - 3s 50us/sample - loss: 0.0123 - accuracy: 0.9186 - val_loss: 0.0167 - val_accuracy: 0.8859\n",
      "Epoch 20/25\n",
      "60000/60000 [==============================] - 3s 50us/sample - loss: 0.0118 - accuracy: 0.9217 - val_loss: 0.0166 - val_accuracy: 0.8857\n",
      "Epoch 21/25\n",
      "60000/60000 [==============================] - 3s 50us/sample - loss: 0.0116 - accuracy: 0.9237 - val_loss: 0.0163 - val_accuracy: 0.8892\n",
      "Epoch 22/25\n",
      "60000/60000 [==============================] - 3s 50us/sample - loss: 0.0113 - accuracy: 0.9256 - val_loss: 0.0169 - val_accuracy: 0.8868\n",
      "Epoch 23/25\n",
      "60000/60000 [==============================] - 3s 50us/sample - loss: 0.0111 - accuracy: 0.9269 - val_loss: 0.0162 - val_accuracy: 0.8910\n",
      "Epoch 24/25\n",
      "60000/60000 [==============================] - 3s 50us/sample - loss: 0.0109 - accuracy: 0.9287 - val_loss: 0.0163 - val_accuracy: 0.8912\n",
      "Epoch 25/25\n",
      "60000/60000 [==============================] - 3s 53us/sample - loss: 0.0106 - accuracy: 0.9311 - val_loss: 0.0176 - val_accuracy: 0.8813\n"
     ]
    }
   ],
   "source": [
    "history = model.fit(X_train, y_train, \n",
    "          batch_size=256, \n",
    "          epochs=25,\n",
    "         validation_data=(X_test, y_test))"
   ]
  },
  {
   "cell_type": "code",
   "execution_count": 157,
   "metadata": {},
   "outputs": [],
   "source": [
    "model.save_weights('MNIST_Model.h5')"
   ]
  },
  {
   "cell_type": "code",
   "execution_count": 158,
   "metadata": {},
   "outputs": [
    {
     "name": "stdout",
     "output_type": "stream",
     "text": [
      "60000/60000 [==============================] - 1s 18us/sample - loss: 0.0114 - accuracy: 0.9244\n",
      "Loss: 0.011390875869741043\n",
      "準確率: 92.44333505630493\n"
     ]
    }
   ],
   "source": [
    "score = model.evaluate(X_train, y_train, batch_size=10000)\n",
    "print(f'Loss: {score[0]}')\n",
    "print(f'準確率: {score[1]*100}')"
   ]
  },
  {
   "cell_type": "code",
   "execution_count": 159,
   "metadata": {},
   "outputs": [
    {
     "data": {
      "text/plain": [
       "<matplotlib.legend.Legend at 0x1cb94b27dc8>"
      ]
     },
     "execution_count": 159,
     "metadata": {},
     "output_type": "execute_result"
    },
    {
     "data": {
      "image/png": "[encoded data removed]",
      "text/plain": [
       "<Figure size 432x288 with 1 Axes>"
      ]
     },
     "metadata": {
      "needs_background": "light"
     },
     "output_type": "display_data"
    }
   ],
   "source": [
    "plt.plot(history.history['accuracy'], label = 'accuracy')\n",
    "plt.plot(history.history['val_accuracy'], label = 'val_accuracy')\n",
    "plt.legend()"
   ]
  },
  {
   "cell_type": "code",
   "execution_count": 160,
   "metadata": {},
   "outputs": [
    {
     "data": {
      "text/plain": [
       "<matplotlib.legend.Legend at 0x1cb94bed448>"
      ]
     },
     "execution_count": 160,
     "metadata": {},
     "output_type": "execute_result"
    },
    {
     "data": {
      "image/png": "[encoded data removed]",
      "text/plain": [
       "<Figure size 432x288 with 1 Axes>"
      ]
     },
     "metadata": {
      "needs_background": "light"
     },
     "output_type": "display_data"
    }
   ],
   "source": [
    "plt.plot(history.history['loss'], label = 'loss')\n",
    "plt.plot(history.history['val_loss'], label = 'val_loss')\n",
    "plt.legend()"
   ]
  },
  {
   "cell_type": "code",
   "execution_count": null,
   "metadata": {},
   "outputs": [],
   "source": []
  },
  {
   "cell_type": "code",
   "execution_count": null,
   "metadata": {},
   "outputs": [],
   "source": []
  },
  {
   "cell_type": "code",
   "execution_count": null,
   "metadata": {},
   "outputs": [],
   "source": []
  }
 ],
 "metadata": {
  "kernelspec": {
   "display_name": "Python 3",
   "language": "python",
   "name": "python3"
  },
  "language_info": {
   "codemirror_mode": {
    "name": "ipython",
    "version": 3
   },
   "file_extension": ".py",
   "mimetype": "text/x-python",
   "name": "python",
   "nbconvert_exporter": "python",
   "pygments_lexer": "ipython3",
   "version": "3.7.4"
  }
 },
 "nbformat": 4,
 "nbformat_minor": 2
}
