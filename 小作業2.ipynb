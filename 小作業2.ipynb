{
 "cells": [
  {
   "cell_type": "markdown",
   "metadata": {},
   "source": [
    "在無階差演唱會時，經常因為前面的人身高過高，而〝聽得到聲，看嘸到影〞，所以我們希望開發一個身高分流系統，在入場時，依身高畫分區位，\n",
    "\n",
    "身高低於150cm者(含150cm)站在A區，\n",
    "\n",
    "介於150至160者(含160cm)站在B區，\n",
    "\n",
    "介於160至170者(含170cm)站在C區，\n",
    "\n",
    "介於170至180者(含180cm)站在D區，\n",
    "\n",
    "高於180cm者站在E區，\n",
    "\n",
    "若有情侶、朋友、親人等身高位於不同區者，可以選擇參加不分身高的Z區。\n",
    "\n",
    "\n",
    "題目：請觀眾輸入身高或選擇參加不分身高區後，用if判斷後輸出他所在的區位：\"您的位置在__區\"。"
   ]
  },
  {
   "cell_type": "code",
   "execution_count": null,
   "metadata": {},
   "outputs": [],
   "source": [
    "T=int(input('若想在Z區請輸入1,輸入其他數字將依照身高分配到其他區域'))\n",
    "if T==1:\n",
    "   print('您的位置在Z區')\n",
    "else:\n",
    "    x=int(input('輸入你的身高:'))\n",
    "    if x<=150:\n",
    "        print('您的位置在A區')         #身高低於150cm者(含150cm)站在A區\n",
    "    elif 150<x<=160:\n",
    "        print('您的位置在B區')         #介於150至160者(含160cm)站在B區 \n",
    "    elif 160<x<=170:\n",
    "        print('您的位置在C區')         #介於160至170者(含170cm)站在C區\n",
    "    elif 170<x<=180:\n",
    "        print('您的位置在D區')         #介於170至180者(含180cm)站在D區\n",
    "    else :\n",
    "        print('您的位置在E區')         #高於180cm者站在E區\n"
   ]
  },
  {
   "cell_type": "code",
   "execution_count": null,
   "metadata": {},
   "outputs": [],
   "source": []
  }
 ],
 "metadata": {
  "kernelspec": {
   "display_name": "Python 3",
   "language": "python",
   "name": "python3"
  },
  "language_info": {
   "codemirror_mode": {
    "name": "ipython",
    "version": 3
   },
   "file_extension": ".py",
   "mimetype": "text/x-python",
   "name": "python",
   "nbconvert_exporter": "python",
   "pygments_lexer": "ipython3",
   "version": "3.7.4"
  }
 },
 "nbformat": 4,
 "nbformat_minor": 2
}
